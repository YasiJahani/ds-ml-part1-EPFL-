{
 "cells": [
  {
   "cell_type": "markdown",
   "id": "taken-routine",
   "metadata": {},
   "source": [
    "## Pandas exercises\n",
    "\n",
    "### Step 1:\n",
    "    \n",
    "Use the **`babynames.csv`** file to create a DataFrame.\n",
    "\n",
    "Print some information about the DataFrame and it's first five rows."
   ]
  },
  {
   "cell_type": "code",
   "execution_count": 2,
   "id": "romance-plaza",
   "metadata": {},
   "outputs": [
    {
     "name": "stdout",
     "output_type": "stream",
     "text": [
      "<class 'pandas.core.frame.DataFrame'>\n",
      "RangeIndex: 276087 entries, 0 to 276086\n",
      "Data columns (total 7 columns):\n",
      " #   Column  Non-Null Count   Dtype  \n",
      "---  ------  --------------   -----  \n",
      " 0   Id1     276086 non-null  float64\n",
      " 1   Id2     276086 non-null  float64\n",
      " 2   Name    276085 non-null  object \n",
      " 3   Year    276085 non-null  float64\n",
      " 4   Gender  276085 non-null  object \n",
      " 5   State   276085 non-null  object \n",
      " 6   Count   276085 non-null  float64\n",
      "dtypes: float64(4), object(3)\n",
      "memory usage: 14.7+ MB\n"
     ]
    },
    {
     "data": {
      "text/html": [
       "<div>\n",
       "<style scoped>\n",
       "    .dataframe tbody tr th:only-of-type {\n",
       "        vertical-align: middle;\n",
       "    }\n",
       "\n",
       "    .dataframe tbody tr th {\n",
       "        vertical-align: top;\n",
       "    }\n",
       "\n",
       "    .dataframe thead th {\n",
       "        text-align: right;\n",
       "    }\n",
       "</style>\n",
       "<table border=\"1\" class=\"dataframe\">\n",
       "  <thead>\n",
       "    <tr style=\"text-align: right;\">\n",
       "      <th></th>\n",
       "      <th>Id1</th>\n",
       "      <th>Id2</th>\n",
       "      <th>Name</th>\n",
       "      <th>Year</th>\n",
       "      <th>Gender</th>\n",
       "      <th>State</th>\n",
       "      <th>Count</th>\n",
       "    </tr>\n",
       "  </thead>\n",
       "  <tbody>\n",
       "    <tr>\n",
       "      <th>0</th>\n",
       "      <td>11349.0</td>\n",
       "      <td>11350.0</td>\n",
       "      <td>Emma</td>\n",
       "      <td>2004.0</td>\n",
       "      <td>F</td>\n",
       "      <td>AK</td>\n",
       "      <td>62.0</td>\n",
       "    </tr>\n",
       "    <tr>\n",
       "      <th>1</th>\n",
       "      <td>11350.0</td>\n",
       "      <td>11351.0</td>\n",
       "      <td>Madison</td>\n",
       "      <td>2004.0</td>\n",
       "      <td>F</td>\n",
       "      <td>AK</td>\n",
       "      <td>48.0</td>\n",
       "    </tr>\n",
       "    <tr>\n",
       "      <th>2</th>\n",
       "      <td>11351.0</td>\n",
       "      <td>11352.0</td>\n",
       "      <td>Hannah</td>\n",
       "      <td>2004.0</td>\n",
       "      <td>F</td>\n",
       "      <td>AK</td>\n",
       "      <td>46.0</td>\n",
       "    </tr>\n",
       "    <tr>\n",
       "      <th>3</th>\n",
       "      <td>11352.0</td>\n",
       "      <td>11353.0</td>\n",
       "      <td>Grace</td>\n",
       "      <td>2004.0</td>\n",
       "      <td>F</td>\n",
       "      <td>AK</td>\n",
       "      <td>44.0</td>\n",
       "    </tr>\n",
       "    <tr>\n",
       "      <th>4</th>\n",
       "      <td>11353.0</td>\n",
       "      <td>11354.0</td>\n",
       "      <td>Emily</td>\n",
       "      <td>2004.0</td>\n",
       "      <td>F</td>\n",
       "      <td>AK</td>\n",
       "      <td>41.0</td>\n",
       "    </tr>\n",
       "  </tbody>\n",
       "</table>\n",
       "</div>"
      ],
      "text/plain": [
       "       Id1      Id2     Name    Year Gender State  Count\n",
       "0  11349.0  11350.0     Emma  2004.0      F    AK   62.0\n",
       "1  11350.0  11351.0  Madison  2004.0      F    AK   48.0\n",
       "2  11351.0  11352.0   Hannah  2004.0      F    AK   46.0\n",
       "3  11352.0  11353.0    Grace  2004.0      F    AK   44.0\n",
       "4  11353.0  11354.0    Emily  2004.0      F    AK   41.0"
      ]
     },
     "execution_count": 2,
     "metadata": {},
     "output_type": "execute_result"
    }
   ],
   "source": [
    "from IPython.core.interactiveshell import InteractiveShell\n",
    "InteractiveShell.ast_node_interactivity = \"all\" # default is 'last'\n",
    "\n",
    "import pandas as pd\n",
    "df = pd.read_csv('./datasets/babynames.csv')\n",
    "df.info()\n",
    "df.head()"
   ]
  },
  {
   "cell_type": "markdown",
   "id": "interested-italian",
   "metadata": {},
   "source": [
    "### Step 2:\n",
    "\n",
    "Delete the column **`Id1`** and **`Id2`**"
   ]
  },
  {
   "cell_type": "code",
   "execution_count": 3,
   "id": "acute-employment",
   "metadata": {},
   "outputs": [
    {
     "data": {
      "text/html": [
       "<div>\n",
       "<style scoped>\n",
       "    .dataframe tbody tr th:only-of-type {\n",
       "        vertical-align: middle;\n",
       "    }\n",
       "\n",
       "    .dataframe tbody tr th {\n",
       "        vertical-align: top;\n",
       "    }\n",
       "\n",
       "    .dataframe thead th {\n",
       "        text-align: right;\n",
       "    }\n",
       "</style>\n",
       "<table border=\"1\" class=\"dataframe\">\n",
       "  <thead>\n",
       "    <tr style=\"text-align: right;\">\n",
       "      <th></th>\n",
       "      <th>Name</th>\n",
       "      <th>Year</th>\n",
       "      <th>Gender</th>\n",
       "      <th>State</th>\n",
       "      <th>Count</th>\n",
       "    </tr>\n",
       "  </thead>\n",
       "  <tbody>\n",
       "    <tr>\n",
       "      <th>0</th>\n",
       "      <td>Emma</td>\n",
       "      <td>2004.0</td>\n",
       "      <td>F</td>\n",
       "      <td>AK</td>\n",
       "      <td>62.0</td>\n",
       "    </tr>\n",
       "    <tr>\n",
       "      <th>1</th>\n",
       "      <td>Madison</td>\n",
       "      <td>2004.0</td>\n",
       "      <td>F</td>\n",
       "      <td>AK</td>\n",
       "      <td>48.0</td>\n",
       "    </tr>\n",
       "    <tr>\n",
       "      <th>2</th>\n",
       "      <td>Hannah</td>\n",
       "      <td>2004.0</td>\n",
       "      <td>F</td>\n",
       "      <td>AK</td>\n",
       "      <td>46.0</td>\n",
       "    </tr>\n",
       "    <tr>\n",
       "      <th>3</th>\n",
       "      <td>Grace</td>\n",
       "      <td>2004.0</td>\n",
       "      <td>F</td>\n",
       "      <td>AK</td>\n",
       "      <td>44.0</td>\n",
       "    </tr>\n",
       "    <tr>\n",
       "      <th>4</th>\n",
       "      <td>Emily</td>\n",
       "      <td>2004.0</td>\n",
       "      <td>F</td>\n",
       "      <td>AK</td>\n",
       "      <td>41.0</td>\n",
       "    </tr>\n",
       "  </tbody>\n",
       "</table>\n",
       "</div>"
      ],
      "text/plain": [
       "      Name    Year Gender State  Count\n",
       "0     Emma  2004.0      F    AK   62.0\n",
       "1  Madison  2004.0      F    AK   48.0\n",
       "2   Hannah  2004.0      F    AK   46.0\n",
       "3    Grace  2004.0      F    AK   44.0\n",
       "4    Emily  2004.0      F    AK   41.0"
      ]
     },
     "execution_count": 3,
     "metadata": {},
     "output_type": "execute_result"
    }
   ],
   "source": [
    "df.drop(['Id1','Id2'], axis=1, inplace=True)\n",
    "df.head()\n"
   ]
  },
  {
   "cell_type": "markdown",
   "id": "forced-cornwall",
   "metadata": {},
   "source": [
    "### Step 3:\n",
    "\n",
    "Are there more male or female names in the dataset?"
   ]
  },
  {
   "cell_type": "code",
   "execution_count": 4,
   "id": "featured-explorer",
   "metadata": {},
   "outputs": [
    {
     "data": {
      "text/plain": [
       "F    156721\n",
       "M    119364\n",
       "Name: Gender, dtype: int64"
      ]
     },
     "execution_count": 4,
     "metadata": {},
     "output_type": "execute_result"
    }
   ],
   "source": [
    "df['Gender'].value_counts()"
   ]
  },
  {
   "cell_type": "markdown",
   "id": "speaking-crisis",
   "metadata": {},
   "source": [
    "### Step 4:\n",
    "\n",
    "How many different names exist in the dataset?"
   ]
  },
  {
   "cell_type": "code",
   "execution_count": 5,
   "id": "endless-austin",
   "metadata": {},
   "outputs": [
    {
     "data": {
      "text/plain": [
       "13900"
      ]
     },
     "execution_count": 5,
     "metadata": {},
     "output_type": "execute_result"
    },
    {
     "data": {
      "text/plain": [
       "13900"
      ]
     },
     "execution_count": 5,
     "metadata": {},
     "output_type": "execute_result"
    },
    {
     "data": {
      "text/plain": [
       "13900"
      ]
     },
     "execution_count": 5,
     "metadata": {},
     "output_type": "execute_result"
    },
    {
     "data": {
      "text/plain": [
       "13901"
      ]
     },
     "execution_count": 5,
     "metadata": {},
     "output_type": "execute_result"
    },
    {
     "data": {
      "text/html": [
       "<div>\n",
       "<style scoped>\n",
       "    .dataframe tbody tr th:only-of-type {\n",
       "        vertical-align: middle;\n",
       "    }\n",
       "\n",
       "    .dataframe tbody tr th {\n",
       "        vertical-align: top;\n",
       "    }\n",
       "\n",
       "    .dataframe thead th {\n",
       "        text-align: right;\n",
       "    }\n",
       "</style>\n",
       "<table border=\"1\" class=\"dataframe\">\n",
       "  <thead>\n",
       "    <tr style=\"text-align: right;\">\n",
       "      <th></th>\n",
       "      <th>Name</th>\n",
       "      <th>Year</th>\n",
       "      <th>Gender</th>\n",
       "      <th>State</th>\n",
       "      <th>Count</th>\n",
       "    </tr>\n",
       "  </thead>\n",
       "  <tbody>\n",
       "    <tr>\n",
       "      <th>276081</th>\n",
       "      <td>NaN</td>\n",
       "      <td>NaN</td>\n",
       "      <td>NaN</td>\n",
       "      <td>NaN</td>\n",
       "      <td>NaN</td>\n",
       "    </tr>\n",
       "    <tr>\n",
       "      <th>276086</th>\n",
       "      <td>NaN</td>\n",
       "      <td>NaN</td>\n",
       "      <td>NaN</td>\n",
       "      <td>NaN</td>\n",
       "      <td>NaN</td>\n",
       "    </tr>\n",
       "  </tbody>\n",
       "</table>\n",
       "</div>"
      ],
      "text/plain": [
       "       Name  Year Gender State  Count\n",
       "276081  NaN   NaN    NaN   NaN    NaN\n",
       "276086  NaN   NaN    NaN   NaN    NaN"
      ]
     },
     "execution_count": 5,
     "metadata": {},
     "output_type": "execute_result"
    }
   ],
   "source": [
    "df['Name'].value_counts().size\n",
    "#or\n",
    "len(df['Name'].value_counts())\n",
    "#or\n",
    "df['Name'].nunique() # <====\n",
    "#or\n",
    "len(df['Name'].unique())\n",
    "\n",
    "df[df[\"Name\"].isnull()]"
   ]
  },
  {
   "cell_type": "markdown",
   "id": "direct-medicine",
   "metadata": {},
   "source": [
    "### Step 5:\n",
    "\n",
    "What is the name with most occurrences?"
   ]
  },
  {
   "cell_type": "code",
   "execution_count": 6,
   "id": "tested-welding",
   "metadata": {},
   "outputs": [
    {
     "data": {
      "text/plain": [
       "Name\n",
       "Aadan           18.0\n",
       "Aaden         1125.0\n",
       "Aadhav           6.0\n",
       "Aadhya         149.0\n",
       "Aadi           110.0\n",
       "               ...  \n",
       "Zyquavious       6.0\n",
       "Zyra            21.0\n",
       "Zyrah            5.0\n",
       "Zyria           18.0\n",
       "Zyriah          10.0\n",
       "Name: Count, Length: 13900, dtype: float64"
      ]
     },
     "execution_count": 6,
     "metadata": {},
     "output_type": "execute_result"
    },
    {
     "name": "stdout",
     "output_type": "stream",
     "text": [
      "Jacob 73370.0\n"
     ]
    }
   ],
   "source": [
    "names=df.groupby('Name')['Count'].sum()\n",
    "names\n",
    "names.sort_values(ascending=False, inplace=True)\n",
    "print(names.index[0],names[0])"
   ]
  },
  {
   "cell_type": "code",
   "execution_count": 7,
   "id": "waiting-arrival",
   "metadata": {},
   "outputs": [
    {
     "name": "stdout",
     "output_type": "stream",
     "text": [
      "Jacob 73370.0\n"
     ]
    }
   ],
   "source": [
    "names=df.groupby('Name')['Count'].sum()\n",
    "print(names.idxmax(), names.max())"
   ]
  },
  {
   "cell_type": "markdown",
   "id": "finite-shuttle",
   "metadata": {},
   "source": [
    "### Step 6:\n",
    "\n",
    "How many different names have the least occurrences?"
   ]
  },
  {
   "cell_type": "code",
   "execution_count": 8,
   "id": "portuguese-generator",
   "metadata": {},
   "outputs": [
    {
     "data": {
      "text/plain": [
       "2002"
      ]
     },
     "execution_count": 8,
     "metadata": {},
     "output_type": "execute_result"
    }
   ],
   "source": [
    "names=df.groupby('Name')['Count'].sum()\n",
    "len(names[names.min() == names])"
   ]
  },
  {
   "cell_type": "markdown",
   "id": "compound-royalty",
   "metadata": {},
   "source": [
    "### Step 7:\n",
    "\n",
    "Does the Name column contains any `NaN` value ?<br>\n",
    "What are the indexes of the corresponding rows?"
   ]
  },
  {
   "cell_type": "code",
   "execution_count": 9,
   "id": "outside-bottom",
   "metadata": {},
   "outputs": [
    {
     "data": {
      "text/plain": [
       "2"
      ]
     },
     "execution_count": 9,
     "metadata": {},
     "output_type": "execute_result"
    },
    {
     "data": {
      "text/html": [
       "<div>\n",
       "<style scoped>\n",
       "    .dataframe tbody tr th:only-of-type {\n",
       "        vertical-align: middle;\n",
       "    }\n",
       "\n",
       "    .dataframe tbody tr th {\n",
       "        vertical-align: top;\n",
       "    }\n",
       "\n",
       "    .dataframe thead th {\n",
       "        text-align: right;\n",
       "    }\n",
       "</style>\n",
       "<table border=\"1\" class=\"dataframe\">\n",
       "  <thead>\n",
       "    <tr style=\"text-align: right;\">\n",
       "      <th></th>\n",
       "      <th>Name</th>\n",
       "      <th>Year</th>\n",
       "      <th>Gender</th>\n",
       "      <th>State</th>\n",
       "      <th>Count</th>\n",
       "    </tr>\n",
       "  </thead>\n",
       "  <tbody>\n",
       "    <tr>\n",
       "      <th>276081</th>\n",
       "      <td>NaN</td>\n",
       "      <td>NaN</td>\n",
       "      <td>NaN</td>\n",
       "      <td>NaN</td>\n",
       "      <td>NaN</td>\n",
       "    </tr>\n",
       "    <tr>\n",
       "      <th>276086</th>\n",
       "      <td>NaN</td>\n",
       "      <td>NaN</td>\n",
       "      <td>NaN</td>\n",
       "      <td>NaN</td>\n",
       "      <td>NaN</td>\n",
       "    </tr>\n",
       "  </tbody>\n",
       "</table>\n",
       "</div>"
      ],
      "text/plain": [
       "       Name  Year Gender State  Count\n",
       "276081  NaN   NaN    NaN   NaN    NaN\n",
       "276086  NaN   NaN    NaN   NaN    NaN"
      ]
     },
     "execution_count": 9,
     "metadata": {},
     "output_type": "execute_result"
    }
   ],
   "source": [
    "df['Name'].isnull().sum()\n",
    "df[df['Name'].isnull()]\n"
   ]
  },
  {
   "cell_type": "markdown",
   "id": "fluid-cemetery",
   "metadata": {},
   "source": [
    "### Step 8:\n",
    "\n",
    "Remove the rows that contains a `NaN` value in the `Name` column"
   ]
  },
  {
   "cell_type": "code",
   "execution_count": 10,
   "id": "checked-lighting",
   "metadata": {},
   "outputs": [
    {
     "data": {
      "text/plain": [
       "0"
      ]
     },
     "execution_count": 10,
     "metadata": {},
     "output_type": "execute_result"
    }
   ],
   "source": [
    "df.drop(df[df['Name'].isnull()].index, axis=0, inplace=True)\n",
    "df['Name'].isnull().sum() # Just to check ...\n",
    "\n",
    "#or\n",
    "df.dropna(how='all', axis=0, inplace=True)"
   ]
  },
  {
   "cell_type": "markdown",
   "id": "opposite-logging",
   "metadata": {},
   "source": [
    "### Step 9:\n",
    "\n",
    "List all the unique names that contain the sub-string **'ver'**:"
   ]
  },
  {
   "cell_type": "code",
   "execution_count": 11,
   "id": "german-agency",
   "metadata": {},
   "outputs": [
    {
     "data": {
      "text/plain": [
       "array(['Avery', 'River', 'Everly', 'Oliver', 'Everett', 'Maverick',\n",
       "       'Beverly', 'Averie', 'Averi', 'Everleigh', 'Denver', 'Ever',\n",
       "       'Rivers', 'Everlee', 'Averee', 'Everardo', 'Trever', 'Guinevere',\n",
       "       'Clover', 'Waverly', 'Gwenevere', 'Everley', 'Silver', 'Gwenivere',\n",
       "       'Everlyn', 'Everlynn', 'Averey', 'Xaiver', 'Silverio', 'Everest',\n",
       "       'Severin', 'Iverson', 'Maverik', 'Carver', 'Iver', 'Maveric',\n",
       "       'Everette'], dtype=object)"
      ]
     },
     "execution_count": 11,
     "metadata": {},
     "output_type": "execute_result"
    },
    {
     "data": {
      "text/plain": [
       "array(['Avery', 'River', 'Everly', 'Oliver', 'Everett', 'Maverick',\n",
       "       'Beverly', 'Averie', 'Averi', 'Everleigh', 'Denver', 'Ever',\n",
       "       'Rivers', 'Everlee', 'Averee', 'Everardo', 'Trever', 'Guinevere',\n",
       "       'Clover', 'Waverly', 'Gwenevere', 'Everley', 'Silver', 'Gwenivere',\n",
       "       'Everlyn', 'Everlynn', 'Averey', 'Xaiver', 'Silverio', 'Everest',\n",
       "       'Severin', 'Iverson', 'Maverik', 'Carver', 'Iver', 'Maveric',\n",
       "       'Everette'], dtype=object)"
      ]
     },
     "execution_count": 11,
     "metadata": {},
     "output_type": "execute_result"
    }
   ],
   "source": [
    "df[df['Name'].str.contains('ver')].Name.unique()\n",
    "#or\n",
    "df[df['Name'].str.contains('ver')][\"Name\"].unique()"
   ]
  },
  {
   "cell_type": "markdown",
   "id": "foster-inspection",
   "metadata": {},
   "source": [
    "### Step 10:\n",
    "\n",
    "Convert the `Year` colum into `int`.\n",
    "\n",
    "Count how many rows do concern year 2007 or 2008.\n"
   ]
  },
  {
   "cell_type": "code",
   "execution_count": 12,
   "id": "threaded-somewhere",
   "metadata": {},
   "outputs": [
    {
     "name": "stdout",
     "output_type": "stream",
     "text": [
      "<class 'pandas.core.frame.DataFrame'>\n",
      "Int64Index: 52021 entries, 639 to 273669\n",
      "Data columns (total 5 columns):\n",
      " #   Column  Non-Null Count  Dtype  \n",
      "---  ------  --------------  -----  \n",
      " 0   Name    52021 non-null  object \n",
      " 1   Year    52021 non-null  int32  \n",
      " 2   Gender  52021 non-null  object \n",
      " 3   State   52021 non-null  object \n",
      " 4   Count   52021 non-null  float64\n",
      "dtypes: float64(1), int32(1), object(3)\n",
      "memory usage: 2.2+ MB\n"
     ]
    },
    {
     "data": {
      "text/plain": [
       "52021"
      ]
     },
     "execution_count": 12,
     "metadata": {},
     "output_type": "execute_result"
    },
    {
     "data": {
      "text/plain": [
       "52021"
      ]
     },
     "execution_count": 12,
     "metadata": {},
     "output_type": "execute_result"
    }
   ],
   "source": [
    "# Conversion of the column Year \n",
    "\n",
    "df.Year=df.Year.astype(int)\n",
    "#or\n",
    "# df[\"Year\"]=df[\"Year\"].astype(int)\n",
    "\n",
    "res=df[(df.Year==2008) | (df.Year==2007)]\n",
    "\n",
    "res.info()\n",
    "res.Year.size\n",
    "len(res)"
   ]
  },
  {
   "cell_type": "markdown",
   "id": "a4907879",
   "metadata": {},
   "source": [
    "### Step 11:\n",
    "\n",
    "Print the frequencies of the name `Denver` by year."
   ]
  },
  {
   "cell_type": "code",
   "execution_count": 23,
   "id": "illegal-organic",
   "metadata": {},
   "outputs": [
    {
     "name": "stdout",
     "output_type": "stream",
     "text": [
      "2004\n",
      "          Name  Year Gender State  Count\n",
      "109158  Denver  2004      M    CA    8.0\n",
      "210106  Denver  2004      M    FL    6.0\n",
      "248930  Denver  2004      M    GA   11.0\n",
      "2005\n",
      "          Name  Year Gender State  Count\n",
      "31439   Denver  2005      M    AR    6.0\n",
      "111562  Denver  2005      M    CA   11.0\n",
      "211727  Denver  2005      M    FL    7.0\n",
      "250432  Denver  2005      M    GA    8.0\n",
      "2006\n",
      "          Name  Year Gender State  Count\n",
      "31939   Denver  2006      M    AR    8.0\n",
      "115108  Denver  2006      M    CA    6.0\n",
      "213699  Denver  2006      M    FL    6.0\n",
      "252048  Denver  2006      M    GA    6.0\n",
      "2007\n",
      "          Name  Year Gender State  Count\n",
      "118400  Denver  2007      M    CA    5.0\n",
      "215004  Denver  2007      M    FL   12.0\n",
      "253150  Denver  2007      M    GA   10.0\n",
      "2008\n",
      "          Name  Year Gender State  Count\n",
      "18546   Denver  2008      M    AL    5.0\n",
      "33175   Denver  2008      M    AR    7.0\n",
      "120044  Denver  2008      M    CA   14.0\n",
      "216996  Denver  2008      M    FL   10.0\n",
      "237257  Denver  2008      F    GA    7.0\n",
      "2009\n",
      "          Name  Year Gender State  Count\n",
      "33889   Denver  2009      M    AR    5.0\n",
      "123241  Denver  2009      M    CA   10.0\n",
      "256434  Denver  2009      M    GA    6.0\n",
      "2010\n",
      "          Name  Year Gender State  Count\n",
      "34479   Denver  2010      M    AR    5.0\n",
      "221267  Denver  2010      M    FL    5.0\n",
      "257522  Denver  2010      M    GA   10.0\n",
      "2011\n",
      "          Name  Year Gender State  Count\n",
      "59193   Denver  2011      M    AZ    5.0\n",
      "129361  Denver  2011      M    CA    8.0\n",
      "222767  Denver  2011      M    FL    7.0\n",
      "242918  Denver  2011      F    GA    5.0\n",
      "2012\n",
      "          Name  Year Gender State  Count\n",
      "35566   Denver  2012      M    AR    7.0\n",
      "132652  Denver  2012      M    CA    6.0\n",
      "224599  Denver  2012      M    FL    7.0\n",
      "244182  Denver  2012      F    GA    8.0\n",
      "260648  Denver  2012      M    GA    6.0\n",
      "2013\n",
      "          Name  Year Gender State  Count\n",
      "36276   Denver  2013      M    AR    5.0\n",
      "226570  Denver  2013      M    FL    6.0\n",
      "245640  Denver  2013      F    GA   11.0\n",
      "261661  Denver  2013      M    GA   11.0\n",
      "2014\n",
      "          Name  Year Gender State  Count\n",
      "14767   Denver  2014      F    AL    5.0\n",
      "36790   Denver  2014      M    AR    6.0\n",
      "62014   Denver  2014      M    AZ    7.0\n",
      "106551  Denver  2014      F    CA    6.0\n",
      "137522  Denver  2014      M    CA   13.0\n",
      "228673  Denver  2014      M    FL    5.0\n",
      "247149  Denver  2014      F    GA   15.0\n",
      "262986  Denver  2014      M    GA   12.0\n"
     ]
    },
    {
     "data": {
      "text/plain": [
       "Year\n",
       "2004    25.0\n",
       "2005    32.0\n",
       "2006    26.0\n",
       "2007    27.0\n",
       "2008    43.0\n",
       "2009    21.0\n",
       "2010    20.0\n",
       "2011    25.0\n",
       "2012    34.0\n",
       "2013    33.0\n",
       "2014    69.0\n",
       "Name: Count, dtype: float64"
      ]
     },
     "execution_count": 23,
     "metadata": {},
     "output_type": "execute_result"
    },
    {
     "data": {
      "text/plain": [
       "pandas.core.series.Series"
      ]
     },
     "execution_count": 23,
     "metadata": {},
     "output_type": "execute_result"
    },
    {
     "data": {
      "text/plain": [
       "<AxesSubplot:xlabel='Year'>"
      ]
     },
     "execution_count": 23,
     "metadata": {},
     "output_type": "execute_result"
    },
    {
     "data": {
      "text/plain": [
       "(array([ 0,  1,  2,  3,  4,  5,  6,  7,  8,  9, 10]),\n",
       " [Text(0, 0, '2004'),\n",
       "  Text(1, 0, '2005'),\n",
       "  Text(2, 0, '2006'),\n",
       "  Text(3, 0, '2007'),\n",
       "  Text(4, 0, '2008'),\n",
       "  Text(5, 0, '2009'),\n",
       "  Text(6, 0, '2010'),\n",
       "  Text(7, 0, '2011'),\n",
       "  Text(8, 0, '2012'),\n",
       "  Text(9, 0, '2013'),\n",
       "  Text(10, 0, '2014')])"
      ]
     },
     "execution_count": 23,
     "metadata": {},
     "output_type": "execute_result"
    },
    {
     "data": {
      "image/png": "[encoded data removed]",
      "text/plain": [
       "<Figure size 432x288 with 1 Axes>"
      ]
     },
     "metadata": {
      "needs_background": "light"
     },
     "output_type": "display_data"
    }
   ],
   "source": [
    "#res=df[df['Name']=='Denver'].groupby('Year').Count.sum()\n",
    "res=df[df['Name']=='Denver'].groupby('Year')\n",
    "\n",
    "for element in res:\n",
    "    print(element[0])\n",
    "    print(element[1])\n",
    "    \n",
    "\n",
    "res=df[df['Name']=='Denver'].groupby('Year')[\"Count\"].sum()\n",
    "# To plot the result via Pandas:\n",
    "#res.plot.bar()\n",
    "res\n",
    "type(res)\n",
    "\n",
    "# To plot the result via Seaborn:\n",
    "import seaborn as sns\n",
    "import matplotlib.pyplot as plt\n",
    "sns.barplot(x=res.index, y=res.values)\n",
    "plt.xticks(rotation=45)"
   ]
  },
  {
   "cell_type": "code",
   "execution_count": null,
   "id": "f1466997",
   "metadata": {},
   "outputs": [],
   "source": []
  }
 ],
 "metadata": {
  "kernelspec": {
   "display_name": "Python 3 (ipykernel)",
   "language": "python",
   "name": "python3"
  },
  "language_info": {
   "codemirror_mode": {
    "name": "ipython",
    "version": 3
   },
   "file_extension": ".py",
   "mimetype": "text/x-python",
   "name": "python",
   "nbconvert_exporter": "python",
   "pygments_lexer": "ipython3",
   "version": "3.9.13"
  }
 },
 "nbformat": 4,
 "nbformat_minor": 5
}
